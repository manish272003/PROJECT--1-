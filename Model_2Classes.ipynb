{
 "cells": [
  {
   "cell_type": "code",
   "execution_count": 2,
   "metadata": {},
   "outputs": [],
   "source": [
    "import numpy as np"
   ]
  },
  {
   "cell_type": "code",
   "execution_count": 3,
   "metadata": {},
   "outputs": [],
   "source": [
    "X_train = np.load(\"F:/btp_working_directory/binary/X_train.npy\")\n",
    "X_test = np.load(\"F:/btp_working_directory/binary/X_test.npy\")\n",
    "y_train = np.load(\"F:/btp_working_directory/binary/y_train.npy\")\n",
    "y_test = np.load(\"F:/btp_working_directory/binary/y_test.npy\")"
   ]
  },
  {
   "cell_type": "code",
   "execution_count": 4,
   "metadata": {},
   "outputs": [
    {
     "name": "stdout",
     "output_type": "stream",
     "text": [
      "Counter({1.0: 99878, 0.0: 64955})\n"
     ]
    }
   ],
   "source": [
    "import collections\n",
    "print(collections.Counter(y_test))"
   ]
  },
  {
   "cell_type": "code",
   "execution_count": 4,
   "metadata": {},
   "outputs": [],
   "source": [
    "from sklearn.neighbors import KNeighborsClassifier\n",
    "from sklearn.metrics import classification_report"
   ]
  },
  {
   "cell_type": "code",
   "execution_count": 5,
   "metadata": {
    "scrolled": true
   },
   "outputs": [
    {
     "name": "stdout",
     "output_type": "stream",
     "text": [
      "Max_depth =  10\n",
      "              precision    recall  f1-score   support\n",
      "\n",
      "      Normal       0.67      0.45      0.54     64955\n",
      "    Diabetic       0.71      0.86      0.78     99878\n",
      "\n",
      "    accuracy                           0.70    164833\n",
      "   macro avg       0.69      0.66      0.66    164833\n",
      "weighted avg       0.69      0.70      0.68    164833\n",
      "\n",
      "Max_depth =  15\n",
      "              precision    recall  f1-score   support\n",
      "\n",
      "      Normal       0.72      0.56      0.63     64955\n",
      "    Diabetic       0.75      0.86      0.80     99878\n",
      "\n",
      "    accuracy                           0.74    164833\n",
      "   macro avg       0.73      0.71      0.71    164833\n",
      "weighted avg       0.74      0.74      0.73    164833\n",
      "\n",
      "Max_depth =  20\n",
      "              precision    recall  f1-score   support\n",
      "\n",
      "      Normal       0.73      0.66      0.69     64955\n",
      "    Diabetic       0.79      0.84      0.82     99878\n",
      "\n",
      "    accuracy                           0.77    164833\n",
      "   macro avg       0.76      0.75      0.75    164833\n",
      "weighted avg       0.77      0.77      0.77    164833\n",
      "\n",
      "Max_depth =  25\n",
      "              precision    recall  f1-score   support\n",
      "\n",
      "      Normal       0.71      0.71      0.71     64955\n",
      "    Diabetic       0.81      0.82      0.81     99878\n",
      "\n",
      "    accuracy                           0.77    164833\n",
      "   macro avg       0.76      0.76      0.76    164833\n",
      "weighted avg       0.77      0.77      0.77    164833\n",
      "\n",
      "Max_depth =  30\n",
      "              precision    recall  f1-score   support\n",
      "\n",
      "      Normal       0.70      0.73      0.72     64955\n",
      "    Diabetic       0.82      0.80      0.81     99878\n",
      "\n",
      "    accuracy                           0.77    164833\n",
      "   macro avg       0.76      0.77      0.76    164833\n",
      "weighted avg       0.77      0.77      0.77    164833\n",
      "\n"
     ]
    }
   ],
   "source": [
    "from sklearn.tree import DecisionTreeClassifier\n",
    "for d in [10,15,20,25,30]:\n",
    "    print(\"Max_depth = \",d)\n",
    "    clf = DecisionTreeClassifier(random_state=0,max_depth = d, min_samples_split = 5)\n",
    "    clf.fit(X_train, y_train)\n",
    "    y_pred = clf.predict(X_test)\n",
    "    print(classification_report(y_test, y_pred, target_names=['Normal','Diabetic']))"
   ]
  },
  {
   "cell_type": "code",
   "execution_count": 6,
   "metadata": {
    "scrolled": true
   },
   "outputs": [
    {
     "name": "stdout",
     "output_type": "stream",
     "text": [
      "n_estimators =  10\n",
      "              precision    recall  f1-score   support\n",
      "\n",
      "      Normal       0.77      0.69      0.73     64955\n",
      "    Diabetic       0.81      0.86      0.84     99878\n",
      "\n",
      "    accuracy                           0.79    164833\n",
      "   macro avg       0.79      0.78      0.78    164833\n",
      "weighted avg       0.79      0.79      0.79    164833\n",
      "\n",
      "n_estimators =  15\n",
      "              precision    recall  f1-score   support\n",
      "\n",
      "      Normal       0.77      0.69      0.73     64955\n",
      "    Diabetic       0.81      0.87      0.84     99878\n",
      "\n",
      "    accuracy                           0.80    164833\n",
      "   macro avg       0.79      0.78      0.78    164833\n",
      "weighted avg       0.80      0.80      0.80    164833\n",
      "\n",
      "n_estimators =  20\n",
      "              precision    recall  f1-score   support\n",
      "\n",
      "      Normal       0.78      0.69      0.73     64955\n",
      "    Diabetic       0.81      0.87      0.84     99878\n",
      "\n",
      "    accuracy                           0.80    164833\n",
      "   macro avg       0.80      0.78      0.79    164833\n",
      "weighted avg       0.80      0.80      0.80    164833\n",
      "\n",
      "n_estimators =  25\n",
      "              precision    recall  f1-score   support\n",
      "\n",
      "      Normal       0.78      0.69      0.73     64955\n",
      "    Diabetic       0.81      0.87      0.84     99878\n",
      "\n",
      "    accuracy                           0.80    164833\n",
      "   macro avg       0.80      0.78      0.79    164833\n",
      "weighted avg       0.80      0.80      0.80    164833\n",
      "\n",
      "n_estimators =  30\n",
      "              precision    recall  f1-score   support\n",
      "\n",
      "      Normal       0.78      0.69      0.74     64955\n",
      "    Diabetic       0.81      0.87      0.84     99878\n",
      "\n",
      "    accuracy                           0.80    164833\n",
      "   macro avg       0.80      0.78      0.79    164833\n",
      "weighted avg       0.80      0.80      0.80    164833\n",
      "\n",
      "n_estimators =  40\n",
      "              precision    recall  f1-score   support\n",
      "\n",
      "      Normal       0.79      0.70      0.74     64955\n",
      "    Diabetic       0.82      0.88      0.85     99878\n",
      "\n",
      "    accuracy                           0.81    164833\n",
      "   macro avg       0.80      0.79      0.79    164833\n",
      "weighted avg       0.80      0.81      0.80    164833\n",
      "\n"
     ]
    }
   ],
   "source": [
    "from sklearn.ensemble import RandomForestClassifier\n",
    "for n in [10,15,20,25,30,40]:\n",
    "    print(\"n_estimators = \",n )\n",
    "    clf = RandomForestClassifier(random_state=0, n_estimators=n, min_samples_split = 10)\n",
    "    clf.fit(X_train, y_train)\n",
    "    y_pred = clf.predict(X_test)\n",
    "    print(classification_report(y_test, y_pred, target_names=['Normal','Diabetic']))"
   ]
  },
  {
   "cell_type": "code",
   "execution_count": 7,
   "metadata": {},
   "outputs": [
    {
     "name": "stdout",
     "output_type": "stream",
     "text": [
      "              precision    recall  f1-score   support\n",
      "\n",
      "      Normal       0.58      0.23      0.33     64955\n",
      "    Diabetic       0.64      0.89      0.75     99878\n",
      "\n",
      "    accuracy                           0.63    164833\n",
      "   macro avg       0.61      0.56      0.54    164833\n",
      "weighted avg       0.62      0.63      0.58    164833\n",
      "\n"
     ]
    }
   ],
   "source": [
    "from sklearn.naive_bayes import CategoricalNB\n",
    "clf = CategoricalNB()\n",
    "clf.fit(X_train, y_train)\n",
    "y_pred = clf.predict(X_test)\n",
    "print(classification_report(y_test, y_pred, target_names=['Normal','Diabetic']))"
   ]
  }
 ],
 "metadata": {
  "kernelspec": {
   "display_name": "Python 3",
   "language": "python",
   "name": "python3"
  },
  "language_info": {
   "codemirror_mode": {
    "name": "ipython",
    "version": 3
   },
   "file_extension": ".py",
   "mimetype": "text/x-python",
   "name": "python",
   "nbconvert_exporter": "python",
   "pygments_lexer": "ipython3",
   "version": "3.7.9"
  }
 },
 "nbformat": 4,
 "nbformat_minor": 4
}
